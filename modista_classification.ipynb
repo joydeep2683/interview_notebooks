{
  "nbformat": 4,
  "nbformat_minor": 0,
  "metadata": {
    "colab": {
      "name": "modista_classification.ipynb",
      "provenance": [],
      "collapsed_sections": [],
      "authorship_tag": "ABX9TyPIl+g9MYVBdxaAUGyFiXNL",
      "include_colab_link": true
    },
    "kernelspec": {
      "name": "python3",
      "display_name": "Python 3"
    },
    "accelerator": "GPU",
    "widgets": {
      "application/vnd.jupyter.widget-state+json": {
        "3e5e88bfca864e8db0390553bf58b858": {
          "model_module": "@jupyter-widgets/controls",
          "model_name": "HBoxModel",
          "state": {
            "_view_name": "HBoxView",
            "_dom_classes": [],
            "_model_name": "HBoxModel",
            "_view_module": "@jupyter-widgets/controls",
            "_model_module_version": "1.5.0",
            "_view_count": null,
            "_view_module_version": "1.5.0",
            "box_style": "",
            "layout": "IPY_MODEL_6f583d6fb0aa45c29c5743f91a55d88d",
            "_model_module": "@jupyter-widgets/controls",
            "children": [
              "IPY_MODEL_b653d1e72b38464db404ed239880c073",
              "IPY_MODEL_8d5d9bfc1aca452f96669cb11b257b6c"
            ]
          }
        },
        "6f583d6fb0aa45c29c5743f91a55d88d": {
          "model_module": "@jupyter-widgets/base",
          "model_name": "LayoutModel",
          "state": {
            "_view_name": "LayoutView",
            "grid_template_rows": null,
            "right": null,
            "justify_content": null,
            "_view_module": "@jupyter-widgets/base",
            "overflow": null,
            "_model_module_version": "1.2.0",
            "_view_count": null,
            "flex_flow": null,
            "width": null,
            "min_width": null,
            "border": null,
            "align_items": null,
            "bottom": null,
            "_model_module": "@jupyter-widgets/base",
            "top": null,
            "grid_column": null,
            "overflow_y": null,
            "overflow_x": null,
            "grid_auto_flow": null,
            "grid_area": null,
            "grid_template_columns": null,
            "flex": null,
            "_model_name": "LayoutModel",
            "justify_items": null,
            "grid_row": null,
            "max_height": null,
            "align_content": null,
            "visibility": null,
            "align_self": null,
            "height": null,
            "min_height": null,
            "padding": null,
            "grid_auto_rows": null,
            "grid_gap": null,
            "max_width": null,
            "order": null,
            "_view_module_version": "1.2.0",
            "grid_template_areas": null,
            "object_position": null,
            "object_fit": null,
            "grid_auto_columns": null,
            "margin": null,
            "display": null,
            "left": null
          }
        },
        "b653d1e72b38464db404ed239880c073": {
          "model_module": "@jupyter-widgets/controls",
          "model_name": "FloatProgressModel",
          "state": {
            "_view_name": "ProgressView",
            "style": "IPY_MODEL_8ab6cd1fdab04acea7aa3216b736c9a3",
            "_dom_classes": [],
            "description": "100%",
            "_model_name": "FloatProgressModel",
            "bar_style": "success",
            "max": 87306240,
            "_view_module": "@jupyter-widgets/controls",
            "_model_module_version": "1.5.0",
            "value": 87306240,
            "_view_count": null,
            "_view_module_version": "1.5.0",
            "orientation": "horizontal",
            "min": 0,
            "description_tooltip": null,
            "_model_module": "@jupyter-widgets/controls",
            "layout": "IPY_MODEL_d52ef1d0911c478eb85f9428e2b1f9ce"
          }
        },
        "8d5d9bfc1aca452f96669cb11b257b6c": {
          "model_module": "@jupyter-widgets/controls",
          "model_name": "HTMLModel",
          "state": {
            "_view_name": "HTMLView",
            "style": "IPY_MODEL_9ddf236d978b4bdb9c72b9e9775c1492",
            "_dom_classes": [],
            "description": "",
            "_model_name": "HTMLModel",
            "placeholder": "​",
            "_view_module": "@jupyter-widgets/controls",
            "_model_module_version": "1.5.0",
            "value": " 83.3M/83.3M [00:45&lt;00:00, 1.93MB/s]",
            "_view_count": null,
            "_view_module_version": "1.5.0",
            "description_tooltip": null,
            "_model_module": "@jupyter-widgets/controls",
            "layout": "IPY_MODEL_513cd58537b9421eae4f0722c84d935c"
          }
        },
        "8ab6cd1fdab04acea7aa3216b736c9a3": {
          "model_module": "@jupyter-widgets/controls",
          "model_name": "ProgressStyleModel",
          "state": {
            "_view_name": "StyleView",
            "_model_name": "ProgressStyleModel",
            "description_width": "initial",
            "_view_module": "@jupyter-widgets/base",
            "_model_module_version": "1.5.0",
            "_view_count": null,
            "_view_module_version": "1.2.0",
            "bar_color": null,
            "_model_module": "@jupyter-widgets/controls"
          }
        },
        "d52ef1d0911c478eb85f9428e2b1f9ce": {
          "model_module": "@jupyter-widgets/base",
          "model_name": "LayoutModel",
          "state": {
            "_view_name": "LayoutView",
            "grid_template_rows": null,
            "right": null,
            "justify_content": null,
            "_view_module": "@jupyter-widgets/base",
            "overflow": null,
            "_model_module_version": "1.2.0",
            "_view_count": null,
            "flex_flow": null,
            "width": null,
            "min_width": null,
            "border": null,
            "align_items": null,
            "bottom": null,
            "_model_module": "@jupyter-widgets/base",
            "top": null,
            "grid_column": null,
            "overflow_y": null,
            "overflow_x": null,
            "grid_auto_flow": null,
            "grid_area": null,
            "grid_template_columns": null,
            "flex": null,
            "_model_name": "LayoutModel",
            "justify_items": null,
            "grid_row": null,
            "max_height": null,
            "align_content": null,
            "visibility": null,
            "align_self": null,
            "height": null,
            "min_height": null,
            "padding": null,
            "grid_auto_rows": null,
            "grid_gap": null,
            "max_width": null,
            "order": null,
            "_view_module_version": "1.2.0",
            "grid_template_areas": null,
            "object_position": null,
            "object_fit": null,
            "grid_auto_columns": null,
            "margin": null,
            "display": null,
            "left": null
          }
        },
        "9ddf236d978b4bdb9c72b9e9775c1492": {
          "model_module": "@jupyter-widgets/controls",
          "model_name": "DescriptionStyleModel",
          "state": {
            "_view_name": "StyleView",
            "_model_name": "DescriptionStyleModel",
            "description_width": "",
            "_view_module": "@jupyter-widgets/base",
            "_model_module_version": "1.5.0",
            "_view_count": null,
            "_view_module_version": "1.2.0",
            "_model_module": "@jupyter-widgets/controls"
          }
        },
        "513cd58537b9421eae4f0722c84d935c": {
          "model_module": "@jupyter-widgets/base",
          "model_name": "LayoutModel",
          "state": {
            "_view_name": "LayoutView",
            "grid_template_rows": null,
            "right": null,
            "justify_content": null,
            "_view_module": "@jupyter-widgets/base",
            "overflow": null,
            "_model_module_version": "1.2.0",
            "_view_count": null,
            "flex_flow": null,
            "width": null,
            "min_width": null,
            "border": null,
            "align_items": null,
            "bottom": null,
            "_model_module": "@jupyter-widgets/base",
            "top": null,
            "grid_column": null,
            "overflow_y": null,
            "overflow_x": null,
            "grid_auto_flow": null,
            "grid_area": null,
            "grid_template_columns": null,
            "flex": null,
            "_model_name": "LayoutModel",
            "justify_items": null,
            "grid_row": null,
            "max_height": null,
            "align_content": null,
            "visibility": null,
            "align_self": null,
            "height": null,
            "min_height": null,
            "padding": null,
            "grid_auto_rows": null,
            "grid_gap": null,
            "max_width": null,
            "order": null,
            "_view_module_version": "1.2.0",
            "grid_template_areas": null,
            "object_position": null,
            "object_fit": null,
            "grid_auto_columns": null,
            "margin": null,
            "display": null,
            "left": null
          }
        }
      }
    }
  },
  "cells": [
    {
      "cell_type": "markdown",
      "metadata": {
        "id": "view-in-github",
        "colab_type": "text"
      },
      "source": [
        "<a href=\"https://colab.research.google.com/github/joydeep2683/interview_notebooks/blob/master/modista_classification.ipynb\" target=\"_parent\"><img src=\"https://colab.research.google.com/assets/colab-badge.svg\" alt=\"Open In Colab\"/></a>"
      ]
    },
    {
      "cell_type": "markdown",
      "metadata": {
        "id": "d8-6cusT2EpP",
        "colab_type": "text"
      },
      "source": [
        "# Summary of this notebook:\n",
        "\n",
        "The goal of this notebook is to create one function which will return us the tag probablities for a particulart dress feature(we will have multiple models) So I created ModistaTagPredictor class. Which will load the models and it's predict_tags method will return the probabilities. Parts of the notebook.\n",
        "\n",
        "\n",
        "1.   Importing all the necessary modules including mount gdrive\n",
        "2.   Removing courrpt files\n",
        "3.   Creating DataLoader with Transformation and batch size\n",
        "4.   Load a pretrained model(resnet34) then chopoff the 1000 class (imagenet layer) and replace that by number of classes \n",
        "5.   Setting model optimizer and losses\n",
        "6.   Train and plot graph\n",
        "7.   Predict Classs creation which has both batch and non batch prediction mode\n",
        "\n",
        "\n",
        "Model training pipeline - Downloaded data from different website. Categorized them with correct tags. \n",
        "For example - Sleeve style is the main folder. which has train, test, valid folder. each of which contains a folder for each tag. Data is almost nomalized.\n",
        "\n",
        "P.S - If you found this notebook difficult to understand, you can contact me."
      ]
    },
    {
      "cell_type": "markdown",
      "metadata": {
        "id": "FURl46gmtczY",
        "colab_type": "text"
      },
      "source": [
        "# **Generic Import**"
      ]
    },
    {
      "cell_type": "code",
      "metadata": {
        "id": "wSfa6Xie8wrL",
        "colab_type": "code",
        "colab": {
          "base_uri": "https://localhost:8080/",
          "height": 129
        },
        "outputId": "f71ad7b5-aa5b-4d4e-dcad-941282bdbd7b"
      },
      "source": [
        "from google.colab import drive\n",
        "import os\n",
        "import matplotlib.pyplot as plt\n",
        "from PIL import Image\n",
        "import numpy as np\n",
        "import cv2\n",
        "from tqdm import tqdm\n",
        "drive.mount('/content/gdrive')"
      ],
      "execution_count": null,
      "outputs": [
        {
          "output_type": "stream",
          "text": [
            "Go to this URL in a browser: https://accounts.google.com/o/oauth2/auth?client_id=947318989803-6bn6qk8qdgf4n4g3pfee6491hc0brc4i.apps.googleusercontent.com&redirect_uri=urn%3aietf%3awg%3aoauth%3a2.0%3aoob&scope=email%20https%3a%2f%2fwww.googleapis.com%2fauth%2fdocs.test%20https%3a%2f%2fwww.googleapis.com%2fauth%2fdrive%20https%3a%2f%2fwww.googleapis.com%2fauth%2fdrive.photos.readonly%20https%3a%2f%2fwww.googleapis.com%2fauth%2fpeopleapi.readonly&response_type=code\n",
            "\n",
            "Enter your authorization code:\n",
            "··········\n",
            "Mounted at /content/gdrive\n"
          ],
          "name": "stdout"
        }
      ]
    },
    {
      "cell_type": "markdown",
      "metadata": {
        "id": "aZQKYWkgt5-b",
        "colab_type": "text"
      },
      "source": [
        "# **Torch Import**"
      ]
    },
    {
      "cell_type": "code",
      "metadata": {
        "id": "ag62cRnmuAS2",
        "colab_type": "code",
        "colab": {}
      },
      "source": [
        "import torch\n",
        "import torchvision\n",
        "import torchvision.transforms as transforms\n",
        "from torch import optim\n",
        "import torch.nn as nn\n",
        "import torch.nn.functional as F\n",
        "from torch.autograd import Variable"
      ],
      "execution_count": null,
      "outputs": []
    },
    {
      "cell_type": "markdown",
      "metadata": {
        "id": "LGHRCjHjuWvq",
        "colab_type": "text"
      },
      "source": [
        "# **Training Part**"
      ]
    },
    {
      "cell_type": "code",
      "metadata": {
        "id": "4KCXnqKb9Atj",
        "colab_type": "code",
        "colab": {}
      },
      "source": [
        "train_path = 'gdrive/My Drive/training_data/image_data/train/'\n",
        "test_path = 'gdrive/My Drive/training_data/image_data/test/' \n",
        "valid_path = 'gdrive/My Drive/training_data/image_data/valid/'  "
      ],
      "execution_count": null,
      "outputs": []
    },
    {
      "cell_type": "code",
      "metadata": {
        "id": "Pr7zMPdN9PR2",
        "colab_type": "code",
        "colab": {
          "base_uri": "https://localhost:8080/",
          "height": 109
        },
        "outputId": "8ebd069a-1369-4cf1-e4a3-6a79be0a0e6b"
      },
      "source": [
        "os.listdir(train_path)"
      ],
      "execution_count": null,
      "outputs": [
        {
          "output_type": "execute_result",
          "data": {
            "text/plain": [
              "['cold-shoulder-sleeves',\n",
              " 'flared-sleeves',\n",
              " 'no-sleeves',\n",
              " 'regular-sleeves',\n",
              " 'cap-sleeves']"
            ]
          },
          "metadata": {
            "tags": []
          },
          "execution_count": 4
        }
      ]
    },
    {
      "cell_type": "markdown",
      "metadata": {
        "id": "fq3RzvglCc71",
        "colab_type": "text"
      },
      "source": [
        "Removing corrupt images"
      ]
    },
    {
      "cell_type": "code",
      "metadata": {
        "id": "l2aTqkn5A1sS",
        "colab_type": "code",
        "colab": {}
      },
      "source": [
        "def remove_corrupt(folder_path):\n",
        "    for folder in os.listdir(folder_path):\n",
        "        folder = folder_path+folder+'/'\n",
        "        for img in tqdm(os.listdir(folder)):\n",
        "            img = folder+'/'+img\n",
        "            try:\n",
        "                Image.open(img)\n",
        "            except:\n",
        "                print(\"corrupt image\", img)\n",
        "                os.remove(img)"
      ],
      "execution_count": null,
      "outputs": []
    },
    {
      "cell_type": "markdown",
      "metadata": {
        "id": "3hQBvbChElQu",
        "colab_type": "text"
      },
      "source": [
        "Do the next line only once"
      ]
    },
    {
      "cell_type": "code",
      "metadata": {
        "id": "25-89aT9Bz-p",
        "colab_type": "code",
        "colab": {
          "base_uri": "https://localhost:8080/",
          "height": 196
        },
        "outputId": "7d3e39a4-0fec-4905-af68-825ec6fe2ae6"
      },
      "source": [
        "# remove_corrupt(train_path)\n",
        "# remove_corrupt(test_path)\n",
        "# remove_corrupt(valid_path)"
      ],
      "execution_count": null,
      "outputs": [
        {
          "output_type": "stream",
          "text": [
            "100%|██████████| 101/101 [00:02<00:00, 48.37it/s]\n",
            "  0%|          | 0/101 [00:00<?, ?it/s]"
          ],
          "name": "stderr"
        },
        {
          "output_type": "stream",
          "text": [
            "corrupt image gdrive/My Drive/training_data/image_data/test/flared-sleeves//.DS_Store\n"
          ],
          "name": "stdout"
        },
        {
          "output_type": "stream",
          "text": [
            "100%|██████████| 101/101 [00:04<00:00, 20.53it/s]\n",
            "  0%|          | 0/101 [00:00<?, ?it/s]"
          ],
          "name": "stderr"
        },
        {
          "output_type": "stream",
          "text": [
            "corrupt image gdrive/My Drive/training_data/image_data/test/cold-shoulder-sleeves//.DS_Store\n"
          ],
          "name": "stdout"
        },
        {
          "output_type": "stream",
          "text": [
            "100%|██████████| 101/101 [00:03<00:00, 28.04it/s]\n",
            "  0%|          | 0/101 [00:00<?, ?it/s]"
          ],
          "name": "stderr"
        },
        {
          "output_type": "stream",
          "text": [
            "corrupt image gdrive/My Drive/training_data/image_data/test/cap-sleeves//.DS_Store\n"
          ],
          "name": "stdout"
        },
        {
          "output_type": "stream",
          "text": [
            "100%|██████████| 101/101 [00:06<00:00, 16.76it/s]\n",
            "  0%|          | 0/101 [00:00<?, ?it/s]"
          ],
          "name": "stderr"
        },
        {
          "output_type": "stream",
          "text": [
            "corrupt image gdrive/My Drive/training_data/image_data/test/regular-sleeves//.DS_Store\n"
          ],
          "name": "stdout"
        },
        {
          "output_type": "stream",
          "text": [
            "100%|██████████| 101/101 [00:04<00:00, 21.51it/s]"
          ],
          "name": "stderr"
        },
        {
          "output_type": "stream",
          "text": [
            "corrupt image gdrive/My Drive/training_data/image_data/test/no-sleeves//.DS_Store\n"
          ],
          "name": "stdout"
        },
        {
          "output_type": "stream",
          "text": [
            "\n"
          ],
          "name": "stderr"
        }
      ]
    },
    {
      "cell_type": "markdown",
      "metadata": {
        "id": "l8uJxVtM60fm",
        "colab_type": "text"
      },
      "source": [
        "# DataLoader and Transformation"
      ]
    },
    {
      "cell_type": "code",
      "metadata": {
        "id": "kQpdVBzRgIyM",
        "colab_type": "code",
        "colab": {}
      },
      "source": [
        "transform = transforms.Compose([transforms.Resize(224), \n",
        "                transforms.CenterCrop(224),  \n",
        "                # transforms.RandomHorizontalFlip(),\n",
        "                transforms.ToTensor(), \n",
        "                # transforms.Normalize([0.485, 0.456, 0.406], [0.229, 0.224, 0.225])\n",
        "                ])\n",
        "bs = 128\n",
        "train_dataset = torchvision.datasets.ImageFolder(\n",
        "        root=train_path,\n",
        "        transform=transform\n",
        "    )\n",
        "trainloader = torch.utils.data.DataLoader(train_dataset, batch_size=bs,\n",
        "                                          shuffle=True, num_workers=1)\n",
        "\n",
        "test_dataset = torchvision.datasets.ImageFolder(\n",
        "        root=test_path,\n",
        "        transform=transform\n",
        "    )\n",
        "testloader = torch.utils.data.DataLoader(test_dataset, batch_size=bs,\n",
        "                                          shuffle=True, num_workers=1)\n",
        "\n",
        "valid_dataset = torchvision.datasets.ImageFolder(\n",
        "        root=valid_path,\n",
        "        transform=transform\n",
        "    )\n",
        "validloader = torch.utils.data.DataLoader(valid_dataset, batch_size=bs,\n",
        "                                          shuffle=True, num_workers=1)\n"
      ],
      "execution_count": null,
      "outputs": []
    },
    {
      "cell_type": "code",
      "metadata": {
        "id": "XjCDemdf_noZ",
        "colab_type": "code",
        "colab": {}
      },
      "source": [
        "classes = train_dataset.classes"
      ],
      "execution_count": null,
      "outputs": []
    },
    {
      "cell_type": "code",
      "metadata": {
        "id": "v_AT_Cb5BX3R",
        "colab_type": "code",
        "colab": {
          "base_uri": "https://localhost:8080/",
          "height": 109
        },
        "outputId": "b39a88ae-3d59-47bd-b297-58d1d3fdf0d6"
      },
      "source": [
        "# you need to keep this classes as tags in model config in same order\n",
        "classes"
      ],
      "execution_count": null,
      "outputs": [
        {
          "output_type": "execute_result",
          "data": {
            "text/plain": [
              "['cap-sleeves',\n",
              " 'cold-shoulder-sleeves',\n",
              " 'flared-sleeves',\n",
              " 'no-sleeves',\n",
              " 'regular-sleeves']"
            ]
          },
          "metadata": {
            "tags": []
          },
          "execution_count": 8
        }
      ]
    },
    {
      "cell_type": "code",
      "metadata": {
        "id": "AfmIdVAkgUU2",
        "colab_type": "code",
        "colab": {
          "base_uri": "https://localhost:8080/",
          "height": 305
        },
        "outputId": "1edb2f13-5d51-416e-9f69-ad6d904af590"
      },
      "source": [
        "# functions to show an image after transformation\n",
        "\n",
        "def imshow(img):\n",
        "    npimg = img.numpy()\n",
        "    print(npimg.shape)\n",
        "    plt.imshow(np.transpose(npimg, (1, 2, 0)), aspect='auto')\n",
        "    plt.show()\n",
        "\n",
        "\n",
        "# get some random training images\n",
        "dataiter = iter(trainloader)\n",
        "images, labels = dataiter.next()\n",
        "\n",
        "# show images\n",
        "imshow(torchvision.utils.make_grid(images))\n",
        "# print labels\n",
        "print(' '.join('%5s' % classes[labels[j]] for j in range(4)))\n"
      ],
      "execution_count": null,
      "outputs": [
        {
          "output_type": "stream",
          "text": [
            "(3, 228, 906)\n"
          ],
          "name": "stdout"
        },
        {
          "output_type": "display_data",
          "data": {
            "image/png": "[encoded data removed]",
            "text/plain": [
              "<Figure size 432x288 with 1 Axes>"
            ]
          },
          "metadata": {
            "tags": [],
            "needs_background": "light"
          }
        },
        {
          "output_type": "stream",
          "text": [
            "cap-sleeves no-sleeves cold-shoulder-sleeves no-sleeves\n"
          ],
          "name": "stdout"
        }
      ]
    },
    {
      "cell_type": "markdown",
      "metadata": {
        "id": "v7AziyH37Aat",
        "colab_type": "text"
      },
      "source": [
        "# Pretrained model loading and last layer adjustment"
      ]
    },
    {
      "cell_type": "code",
      "metadata": {
        "id": "z8T8FBKvgpY8",
        "colab_type": "code",
        "colab": {
          "base_uri": "https://localhost:8080/",
          "height": 86,
          "referenced_widgets": [
            "3e5e88bfca864e8db0390553bf58b858",
            "6f583d6fb0aa45c29c5743f91a55d88d",
            "b653d1e72b38464db404ed239880c073",
            "8d5d9bfc1aca452f96669cb11b257b6c",
            "8ab6cd1fdab04acea7aa3216b736c9a3",
            "d52ef1d0911c478eb85f9428e2b1f9ce",
            "9ddf236d978b4bdb9c72b9e9775c1492",
            "513cd58537b9421eae4f0722c84d935c"
          ]
        },
        "outputId": "2c307c4c-6195-4596-b73f-3275ff6851df"
      },
      "source": [
        "# Loading pretrained model with weights\n",
        "model = torchvision.models.resnet34(pretrained=True, progress=True)"
      ],
      "execution_count": null,
      "outputs": [
        {
          "output_type": "stream",
          "text": [
            "Downloading: \"https://download.pytorch.org/models/resnet34-333f7ec4.pth\" to /root/.cache/torch/hub/checkpoints/resnet34-333f7ec4.pth\n"
          ],
          "name": "stderr"
        },
        {
          "output_type": "display_data",
          "data": {
            "application/vnd.jupyter.widget-view+json": {
              "model_id": "3e5e88bfca864e8db0390553bf58b858",
              "version_minor": 0,
              "version_major": 2
            },
            "text/plain": [
              "HBox(children=(FloatProgress(value=0.0, max=87306240.0), HTML(value='')))"
            ]
          },
          "metadata": {
            "tags": []
          }
        },
        {
          "output_type": "stream",
          "text": [
            "\n"
          ],
          "name": "stdout"
        }
      ]
    },
    {
      "cell_type": "code",
      "metadata": {
        "id": "v2LMpL8jhgYA",
        "colab_type": "code",
        "colab": {}
      },
      "source": [
        "# chopping the 1000 class (imagenet layer) and replace that by number of classes\n",
        "model.fc = nn.Linear(512, len(classes))\n",
        "\n",
        "# setting model optimizer and losses\n",
        "criterion = nn.CrossEntropyLoss()\n",
        "# optimizer = optim.SGD(model.parameters(), lr=0.001, momentum=0.9)\n",
        "optimizer = optim.Adam(model.fc.parameters(), lr=0.003)"
      ],
      "execution_count": null,
      "outputs": []
    },
    {
      "cell_type": "code",
      "metadata": {
        "id": "Nk-ZyWAjK2Lt",
        "colab_type": "code",
        "colab": {}
      },
      "source": [
        "device = torch.device(\"cuda\" if torch.cuda.is_available() else \"cpu\")"
      ],
      "execution_count": null,
      "outputs": []
    },
    {
      "cell_type": "code",
      "metadata": {
        "id": "W2-mqvVBK37r",
        "colab_type": "code",
        "colab": {
          "base_uri": "https://localhost:8080/",
          "height": 35
        },
        "outputId": "e06a831a-f42a-42a8-f682-509346c24cc1"
      },
      "source": [
        "print(device)"
      ],
      "execution_count": null,
      "outputs": [
        {
          "output_type": "stream",
          "text": [
            "cuda\n"
          ],
          "name": "stdout"
        }
      ]
    },
    {
      "cell_type": "code",
      "metadata": {
        "id": "Pwd_ktDHOpsG",
        "colab_type": "code",
        "colab": {
          "base_uri": "https://localhost:8080/",
          "height": 1000
        },
        "outputId": "c28fd749-febb-4a09-d5fc-74272aff6d22"
      },
      "source": [
        "model.to(device)"
      ],
      "execution_count": null,
      "outputs": [
        {
          "output_type": "execute_result",
          "data": {
            "text/plain": [
              "ResNet(\n",
              "  (conv1): Conv2d(3, 64, kernel_size=(7, 7), stride=(2, 2), padding=(3, 3), bias=False)\n",
              "  (bn1): BatchNorm2d(64, eps=1e-05, momentum=0.1, affine=True, track_running_stats=True)\n",
              "  (relu): ReLU(inplace=True)\n",
              "  (maxpool): MaxPool2d(kernel_size=3, stride=2, padding=1, dilation=1, ceil_mode=False)\n",
              "  (layer1): Sequential(\n",
              "    (0): BasicBlock(\n",
              "      (conv1): Conv2d(64, 64, kernel_size=(3, 3), stride=(1, 1), padding=(1, 1), bias=False)\n",
              "      (bn1): BatchNorm2d(64, eps=1e-05, momentum=0.1, affine=True, track_running_stats=True)\n",
              "      (relu): ReLU(inplace=True)\n",
              "      (conv2): Conv2d(64, 64, kernel_size=(3, 3), stride=(1, 1), padding=(1, 1), bias=False)\n",
              "      (bn2): BatchNorm2d(64, eps=1e-05, momentum=0.1, affine=True, track_running_stats=True)\n",
              "    )\n",
              "    (1): BasicBlock(\n",
              "      (conv1): Conv2d(64, 64, kernel_size=(3, 3), stride=(1, 1), padding=(1, 1), bias=False)\n",
              "      (bn1): BatchNorm2d(64, eps=1e-05, momentum=0.1, affine=True, track_running_stats=True)\n",
              "      (relu): ReLU(inplace=True)\n",
              "      (conv2): Conv2d(64, 64, kernel_size=(3, 3), stride=(1, 1), padding=(1, 1), bias=False)\n",
              "      (bn2): BatchNorm2d(64, eps=1e-05, momentum=0.1, affine=True, track_running_stats=True)\n",
              "    )\n",
              "    (2): BasicBlock(\n",
              "      (conv1): Conv2d(64, 64, kernel_size=(3, 3), stride=(1, 1), padding=(1, 1), bias=False)\n",
              "      (bn1): BatchNorm2d(64, eps=1e-05, momentum=0.1, affine=True, track_running_stats=True)\n",
              "      (relu): ReLU(inplace=True)\n",
              "      (conv2): Conv2d(64, 64, kernel_size=(3, 3), stride=(1, 1), padding=(1, 1), bias=False)\n",
              "      (bn2): BatchNorm2d(64, eps=1e-05, momentum=0.1, affine=True, track_running_stats=True)\n",
              "    )\n",
              "  )\n",
              "  (layer2): Sequential(\n",
              "    (0): BasicBlock(\n",
              "      (conv1): Conv2d(64, 128, kernel_size=(3, 3), stride=(2, 2), padding=(1, 1), bias=False)\n",
              "      (bn1): BatchNorm2d(128, eps=1e-05, momentum=0.1, affine=True, track_running_stats=True)\n",
              "      (relu): ReLU(inplace=True)\n",
              "      (conv2): Conv2d(128, 128, kernel_size=(3, 3), stride=(1, 1), padding=(1, 1), bias=False)\n",
              "      (bn2): BatchNorm2d(128, eps=1e-05, momentum=0.1, affine=True, track_running_stats=True)\n",
              "      (downsample): Sequential(\n",
              "        (0): Conv2d(64, 128, kernel_size=(1, 1), stride=(2, 2), bias=False)\n",
              "        (1): BatchNorm2d(128, eps=1e-05, momentum=0.1, affine=True, track_running_stats=True)\n",
              "      )\n",
              "    )\n",
              "    (1): BasicBlock(\n",
              "      (conv1): Conv2d(128, 128, kernel_size=(3, 3), stride=(1, 1), padding=(1, 1), bias=False)\n",
              "      (bn1): BatchNorm2d(128, eps=1e-05, momentum=0.1, affine=True, track_running_stats=True)\n",
              "      (relu): ReLU(inplace=True)\n",
              "      (conv2): Conv2d(128, 128, kernel_size=(3, 3), stride=(1, 1), padding=(1, 1), bias=False)\n",
              "      (bn2): BatchNorm2d(128, eps=1e-05, momentum=0.1, affine=True, track_running_stats=True)\n",
              "    )\n",
              "    (2): BasicBlock(\n",
              "      (conv1): Conv2d(128, 128, kernel_size=(3, 3), stride=(1, 1), padding=(1, 1), bias=False)\n",
              "      (bn1): BatchNorm2d(128, eps=1e-05, momentum=0.1, affine=True, track_running_stats=True)\n",
              "      (relu): ReLU(inplace=True)\n",
              "      (conv2): Conv2d(128, 128, kernel_size=(3, 3), stride=(1, 1), padding=(1, 1), bias=False)\n",
              "      (bn2): BatchNorm2d(128, eps=1e-05, momentum=0.1, affine=True, track_running_stats=True)\n",
              "    )\n",
              "    (3): BasicBlock(\n",
              "      (conv1): Conv2d(128, 128, kernel_size=(3, 3), stride=(1, 1), padding=(1, 1), bias=False)\n",
              "      (bn1): BatchNorm2d(128, eps=1e-05, momentum=0.1, affine=True, track_running_stats=True)\n",
              "      (relu): ReLU(inplace=True)\n",
              "      (conv2): Conv2d(128, 128, kernel_size=(3, 3), stride=(1, 1), padding=(1, 1), bias=False)\n",
              "      (bn2): BatchNorm2d(128, eps=1e-05, momentum=0.1, affine=True, track_running_stats=True)\n",
              "    )\n",
              "  )\n",
              "  (layer3): Sequential(\n",
              "    (0): BasicBlock(\n",
              "      (conv1): Conv2d(128, 256, kernel_size=(3, 3), stride=(2, 2), padding=(1, 1), bias=False)\n",
              "      (bn1): BatchNorm2d(256, eps=1e-05, momentum=0.1, affine=True, track_running_stats=True)\n",
              "      (relu): ReLU(inplace=True)\n",
              "      (conv2): Conv2d(256, 256, kernel_size=(3, 3), stride=(1, 1), padding=(1, 1), bias=False)\n",
              "      (bn2): BatchNorm2d(256, eps=1e-05, momentum=0.1, affine=True, track_running_stats=True)\n",
              "      (downsample): Sequential(\n",
              "        (0): Conv2d(128, 256, kernel_size=(1, 1), stride=(2, 2), bias=False)\n",
              "        (1): BatchNorm2d(256, eps=1e-05, momentum=0.1, affine=True, track_running_stats=True)\n",
              "      )\n",
              "    )\n",
              "    (1): BasicBlock(\n",
              "      (conv1): Conv2d(256, 256, kernel_size=(3, 3), stride=(1, 1), padding=(1, 1), bias=False)\n",
              "      (bn1): BatchNorm2d(256, eps=1e-05, momentum=0.1, affine=True, track_running_stats=True)\n",
              "      (relu): ReLU(inplace=True)\n",
              "      (conv2): Conv2d(256, 256, kernel_size=(3, 3), stride=(1, 1), padding=(1, 1), bias=False)\n",
              "      (bn2): BatchNorm2d(256, eps=1e-05, momentum=0.1, affine=True, track_running_stats=True)\n",
              "    )\n",
              "    (2): BasicBlock(\n",
              "      (conv1): Conv2d(256, 256, kernel_size=(3, 3), stride=(1, 1), padding=(1, 1), bias=False)\n",
              "      (bn1): BatchNorm2d(256, eps=1e-05, momentum=0.1, affine=True, track_running_stats=True)\n",
              "      (relu): ReLU(inplace=True)\n",
              "      (conv2): Conv2d(256, 256, kernel_size=(3, 3), stride=(1, 1), padding=(1, 1), bias=False)\n",
              "      (bn2): BatchNorm2d(256, eps=1e-05, momentum=0.1, affine=True, track_running_stats=True)\n",
              "    )\n",
              "    (3): BasicBlock(\n",
              "      (conv1): Conv2d(256, 256, kernel_size=(3, 3), stride=(1, 1), padding=(1, 1), bias=False)\n",
              "      (bn1): BatchNorm2d(256, eps=1e-05, momentum=0.1, affine=True, track_running_stats=True)\n",
              "      (relu): ReLU(inplace=True)\n",
              "      (conv2): Conv2d(256, 256, kernel_size=(3, 3), stride=(1, 1), padding=(1, 1), bias=False)\n",
              "      (bn2): BatchNorm2d(256, eps=1e-05, momentum=0.1, affine=True, track_running_stats=True)\n",
              "    )\n",
              "    (4): BasicBlock(\n",
              "      (conv1): Conv2d(256, 256, kernel_size=(3, 3), stride=(1, 1), padding=(1, 1), bias=False)\n",
              "      (bn1): BatchNorm2d(256, eps=1e-05, momentum=0.1, affine=True, track_running_stats=True)\n",
              "      (relu): ReLU(inplace=True)\n",
              "      (conv2): Conv2d(256, 256, kernel_size=(3, 3), stride=(1, 1), padding=(1, 1), bias=False)\n",
              "      (bn2): BatchNorm2d(256, eps=1e-05, momentum=0.1, affine=True, track_running_stats=True)\n",
              "    )\n",
              "    (5): BasicBlock(\n",
              "      (conv1): Conv2d(256, 256, kernel_size=(3, 3), stride=(1, 1), padding=(1, 1), bias=False)\n",
              "      (bn1): BatchNorm2d(256, eps=1e-05, momentum=0.1, affine=True, track_running_stats=True)\n",
              "      (relu): ReLU(inplace=True)\n",
              "      (conv2): Conv2d(256, 256, kernel_size=(3, 3), stride=(1, 1), padding=(1, 1), bias=False)\n",
              "      (bn2): BatchNorm2d(256, eps=1e-05, momentum=0.1, affine=True, track_running_stats=True)\n",
              "    )\n",
              "  )\n",
              "  (layer4): Sequential(\n",
              "    (0): BasicBlock(\n",
              "      (conv1): Conv2d(256, 512, kernel_size=(3, 3), stride=(2, 2), padding=(1, 1), bias=False)\n",
              "      (bn1): BatchNorm2d(512, eps=1e-05, momentum=0.1, affine=True, track_running_stats=True)\n",
              "      (relu): ReLU(inplace=True)\n",
              "      (conv2): Conv2d(512, 512, kernel_size=(3, 3), stride=(1, 1), padding=(1, 1), bias=False)\n",
              "      (bn2): BatchNorm2d(512, eps=1e-05, momentum=0.1, affine=True, track_running_stats=True)\n",
              "      (downsample): Sequential(\n",
              "        (0): Conv2d(256, 512, kernel_size=(1, 1), stride=(2, 2), bias=False)\n",
              "        (1): BatchNorm2d(512, eps=1e-05, momentum=0.1, affine=True, track_running_stats=True)\n",
              "      )\n",
              "    )\n",
              "    (1): BasicBlock(\n",
              "      (conv1): Conv2d(512, 512, kernel_size=(3, 3), stride=(1, 1), padding=(1, 1), bias=False)\n",
              "      (bn1): BatchNorm2d(512, eps=1e-05, momentum=0.1, affine=True, track_running_stats=True)\n",
              "      (relu): ReLU(inplace=True)\n",
              "      (conv2): Conv2d(512, 512, kernel_size=(3, 3), stride=(1, 1), padding=(1, 1), bias=False)\n",
              "      (bn2): BatchNorm2d(512, eps=1e-05, momentum=0.1, affine=True, track_running_stats=True)\n",
              "    )\n",
              "    (2): BasicBlock(\n",
              "      (conv1): Conv2d(512, 512, kernel_size=(3, 3), stride=(1, 1), padding=(1, 1), bias=False)\n",
              "      (bn1): BatchNorm2d(512, eps=1e-05, momentum=0.1, affine=True, track_running_stats=True)\n",
              "      (relu): ReLU(inplace=True)\n",
              "      (conv2): Conv2d(512, 512, kernel_size=(3, 3), stride=(1, 1), padding=(1, 1), bias=False)\n",
              "      (bn2): BatchNorm2d(512, eps=1e-05, momentum=0.1, affine=True, track_running_stats=True)\n",
              "    )\n",
              "  )\n",
              "  (avgpool): AdaptiveAvgPool2d(output_size=(1, 1))\n",
              "  (fc): Linear(in_features=512, out_features=5, bias=True)\n",
              ")"
            ]
          },
          "metadata": {
            "tags": []
          },
          "execution_count": 13
        }
      ]
    },
    {
      "cell_type": "markdown",
      "metadata": {
        "id": "HVWfVF-d7GR4",
        "colab_type": "text"
      },
      "source": [
        "# TRAINING"
      ]
    },
    {
      "cell_type": "code",
      "metadata": {
        "id": "gMcInIStLJCE",
        "colab_type": "code",
        "colab": {
          "base_uri": "https://localhost:8080/",
          "height": 608
        },
        "outputId": "268c0592-e9eb-421b-b785-661dc729151f"
      },
      "source": [
        "epochs = 2\n",
        "steps = 0\n",
        "running_loss = 0\n",
        "print_every = 2\n",
        "train_losses, valid_losses = [], []\n",
        "\n",
        "for epoch in range(epochs):\n",
        "    for inputs, labels in trainloader:\n",
        "        steps += 1\n",
        "        inputs, labels = inputs.to(device), labels.to(device)\n",
        "        optimizer.zero_grad()\n",
        "        logps = model.forward(inputs)\n",
        "        loss = criterion(logps, labels)\n",
        "        loss.backward()\n",
        "        optimizer.step()\n",
        "        running_loss += loss.item()\n",
        "        \n",
        "        if steps % print_every == 0:\n",
        "            valid_loss = 0\n",
        "            accuracy = 0\n",
        "            model.eval()\n",
        "            with torch.no_grad():\n",
        "                for inputs, labels in validloader:\n",
        "                    inputs, labels = inputs.to(device), labels.to(device)\n",
        "                    logps = model.forward(inputs)\n",
        "                    batch_loss = criterion(logps, labels)\n",
        "                    valid_loss += batch_loss.item()\n",
        "                    \n",
        "                    ps = torch.exp(logps)\n",
        "                    top_p, top_class = ps.topk(1, dim=1)\n",
        "                    equals = top_class == labels.view(*top_class.shape)\n",
        "                    accuracy += torch.mean(equals.type(torch.FloatTensor)).item()\n",
        " \n",
        "            train_losses.append(running_loss/len(trainloader))\n",
        "            valid_losses.append(valid_loss/len(validloader))                    \n",
        "            print(f\"Epoch {epoch+1}/{epochs}.. \"\n",
        "                  f\"Train loss: {running_loss/print_every:.3f}.. \"\n",
        "                  f\"Valid loss: {valid_loss/len(validloader):.3f}.. \"\n",
        "                  f\"Valid accuracy: {accuracy/len(validloader):.3f}\")\n",
        "            running_loss = 0\n",
        "            model.train()"
      ],
      "execution_count": null,
      "outputs": [
        {
          "output_type": "stream",
          "text": [
            "Epoch 1/2.. Train loss: 1.824.. Valid loss: 1.726.. Valid accuracy: 0.215\n",
            "Epoch 1/2.. Train loss: 1.822.. Valid loss: 1.665.. Valid accuracy: 0.244\n",
            "Epoch 1/2.. Train loss: 1.659.. Valid loss: 1.733.. Valid accuracy: 0.233\n",
            "Epoch 1/2.. Train loss: 1.656.. Valid loss: 1.568.. Valid accuracy: 0.299\n",
            "Epoch 1/2.. Train loss: 1.550.. Valid loss: 1.523.. Valid accuracy: 0.340\n",
            "Epoch 1/2.. Train loss: 1.585.. Valid loss: 1.512.. Valid accuracy: 0.336\n",
            "Epoch 1/2.. Train loss: 1.520.. Valid loss: 1.457.. Valid accuracy: 0.364\n",
            "Epoch 1/2.. Train loss: 1.482.. Valid loss: 1.527.. Valid accuracy: 0.336\n",
            "Epoch 1/2.. Train loss: 1.566.. Valid loss: 1.507.. Valid accuracy: 0.353\n",
            "Epoch 1/2.. Train loss: 1.456.. Valid loss: 1.436.. Valid accuracy: 0.380\n",
            "Epoch 1/2.. Train loss: 1.422.. Valid loss: 1.364.. Valid accuracy: 0.424\n",
            "Epoch 1/2.. Train loss: 1.494.. Valid loss: 1.379.. Valid accuracy: 0.428\n",
            "Epoch 1/2.. Train loss: 1.454.. Valid loss: 1.320.. Valid accuracy: 0.480\n",
            "Epoch 1/2.. Train loss: 1.311.. Valid loss: 1.336.. Valid accuracy: 0.436\n",
            "Epoch 1/2.. Train loss: 1.373.. Valid loss: 1.382.. Valid accuracy: 0.422\n",
            "Epoch 1/2.. Train loss: 1.451.. Valid loss: 1.369.. Valid accuracy: 0.392\n",
            "Epoch 2/2.. Train loss: 1.306.. Valid loss: 1.302.. Valid accuracy: 0.472\n",
            "Epoch 2/2.. Train loss: 1.311.. Valid loss: 1.305.. Valid accuracy: 0.472\n",
            "Epoch 2/2.. Train loss: 1.319.. Valid loss: 1.336.. Valid accuracy: 0.455\n",
            "Epoch 2/2.. Train loss: 1.373.. Valid loss: 1.321.. Valid accuracy: 0.436\n",
            "Epoch 2/2.. Train loss: 1.285.. Valid loss: 1.290.. Valid accuracy: 0.465\n",
            "Epoch 2/2.. Train loss: 1.293.. Valid loss: 1.278.. Valid accuracy: 0.459\n",
            "Epoch 2/2.. Train loss: 1.229.. Valid loss: 1.309.. Valid accuracy: 0.449\n",
            "Epoch 2/2.. Train loss: 1.328.. Valid loss: 1.267.. Valid accuracy: 0.480\n",
            "Epoch 2/2.. Train loss: 1.196.. Valid loss: 1.286.. Valid accuracy: 0.452\n",
            "Epoch 2/2.. Train loss: 1.297.. Valid loss: 1.286.. Valid accuracy: 0.452\n",
            "Epoch 2/2.. Train loss: 1.370.. Valid loss: 1.251.. Valid accuracy: 0.492\n",
            "Epoch 2/2.. Train loss: 1.240.. Valid loss: 1.278.. Valid accuracy: 0.476\n",
            "Epoch 2/2.. Train loss: 1.319.. Valid loss: 1.240.. Valid accuracy: 0.493\n",
            "Epoch 2/2.. Train loss: 1.295.. Valid loss: 1.242.. Valid accuracy: 0.483\n",
            "Epoch 2/2.. Train loss: 1.214.. Valid loss: 1.241.. Valid accuracy: 0.500\n",
            "Epoch 2/2.. Train loss: 1.192.. Valid loss: 1.242.. Valid accuracy: 0.517\n",
            "Epoch 2/2.. Train loss: 1.249.. Valid loss: 1.214.. Valid accuracy: 0.504\n"
          ],
          "name": "stdout"
        }
      ]
    },
    {
      "cell_type": "code",
      "metadata": {
        "id": "V7pQdzhMS-wF",
        "colab_type": "code",
        "colab": {
          "base_uri": "https://localhost:8080/",
          "height": 265
        },
        "outputId": "306e3d4b-c1be-49de-c4c4-35fd8516d60f"
      },
      "source": [
        "plt.plot(train_losses, label='Training loss')\n",
        "plt.plot(valid_losses, label='Validation loss')\n",
        "plt.legend(frameon=False)\n",
        "plt.show()"
      ],
      "execution_count": null,
      "outputs": [
        {
          "output_type": "display_data",
          "data": {
            "image/png": "[encoded data removed]",
            "text/plain": [
              "<Figure size 432x288 with 1 Axes>"
            ]
          },
          "metadata": {
            "tags": [],
            "needs_background": "light"
          }
        }
      ]
    },
    {
      "cell_type": "code",
      "metadata": {
        "id": "3vkN2RXOIhcD",
        "colab_type": "code",
        "colab": {
          "base_uri": "https://localhost:8080/",
          "height": 1000
        },
        "outputId": "e4d5a3fb-bd10-45fa-f302-a1e85ce5ac5a"
      },
      "source": [
        "epochs = 30\n",
        "steps = 0\n",
        "running_loss = 0\n",
        "print_every = 2\n",
        "train_losses, valid_losses = [], []\n",
        "\n",
        "for epoch in range(epochs):\n",
        "    for inputs, labels in trainloader:\n",
        "        steps += 1\n",
        "        inputs, labels = inputs.to(device), labels.to(device)\n",
        "        optimizer.zero_grad()\n",
        "        logps = model.forward(inputs)\n",
        "        loss = criterion(logps, labels)\n",
        "        loss.backward()\n",
        "        optimizer.step()\n",
        "        running_loss += loss.item()\n",
        "        \n",
        "        if steps % print_every == 0:\n",
        "            valid_loss = 0\n",
        "            accuracy = 0\n",
        "            model.eval()\n",
        "            with torch.no_grad():\n",
        "                for inputs, labels in validloader:\n",
        "                    inputs, labels = inputs.to(device), labels.to(device)\n",
        "                    logps = model.forward(inputs)\n",
        "                    batch_loss = criterion(logps, labels)\n",
        "                    valid_loss += batch_loss.item()\n",
        "                    \n",
        "                    ps = torch.exp(logps)\n",
        "                    top_p, top_class = ps.topk(1, dim=1)\n",
        "                    equals = top_class == labels.view(*top_class.shape)\n",
        "                    accuracy += torch.mean(equals.type(torch.FloatTensor)).item()\n",
        " \n",
        "            train_losses.append(running_loss/len(trainloader))\n",
        "            valid_losses.append(valid_loss/len(validloader))                    \n",
        "            print(f\"Epoch {epoch+1}/{epochs}.. \"\n",
        "                  f\"Train loss: {running_loss/print_every:.3f}.. \"\n",
        "                  f\"Valid loss: {valid_loss/len(validloader):.3f}.. \"\n",
        "                  f\"Valid accuracy: {accuracy/len(validloader):.3f}\")\n",
        "            running_loss = 0\n",
        "            model.train()"
      ],
      "execution_count": null,
      "outputs": [
        {
          "output_type": "stream",
          "text": [
            "Epoch 1/30.. Train loss: 1.141.. Valid loss: 1.223.. Valid accuracy: 0.481\n",
            "Epoch 1/30.. Train loss: 1.171.. Valid loss: 1.240.. Valid accuracy: 0.452\n",
            "Epoch 1/30.. Train loss: 1.174.. Valid loss: 1.234.. Valid accuracy: 0.488\n",
            "Epoch 1/30.. Train loss: 1.192.. Valid loss: 1.241.. Valid accuracy: 0.513\n",
            "Epoch 1/30.. Train loss: 1.104.. Valid loss: 1.310.. Valid accuracy: 0.436\n",
            "Epoch 1/30.. Train loss: 1.224.. Valid loss: 1.256.. Valid accuracy: 0.505\n",
            "Epoch 1/30.. Train loss: 1.256.. Valid loss: 1.199.. Valid accuracy: 0.496\n",
            "Epoch 1/30.. Train loss: 1.171.. Valid loss: 1.222.. Valid accuracy: 0.480\n",
            "Epoch 1/30.. Train loss: 1.212.. Valid loss: 1.217.. Valid accuracy: 0.477\n",
            "Epoch 1/30.. Train loss: 1.241.. Valid loss: 1.202.. Valid accuracy: 0.532\n",
            "Epoch 1/30.. Train loss: 1.198.. Valid loss: 1.212.. Valid accuracy: 0.516\n",
            "Epoch 1/30.. Train loss: 1.193.. Valid loss: 1.181.. Valid accuracy: 0.545\n",
            "Epoch 1/30.. Train loss: 1.243.. Valid loss: 1.217.. Valid accuracy: 0.496\n",
            "Epoch 1/30.. Train loss: 1.255.. Valid loss: 1.202.. Valid accuracy: 0.508\n",
            "Epoch 1/30.. Train loss: 1.150.. Valid loss: 1.185.. Valid accuracy: 0.524\n",
            "Epoch 1/30.. Train loss: 1.219.. Valid loss: 1.227.. Valid accuracy: 0.488\n",
            "Epoch 2/30.. Train loss: 1.298.. Valid loss: 1.204.. Valid accuracy: 0.507\n",
            "Epoch 2/30.. Train loss: 1.177.. Valid loss: 1.232.. Valid accuracy: 0.489\n",
            "Epoch 2/30.. Train loss: 1.130.. Valid loss: 1.198.. Valid accuracy: 0.507\n",
            "Epoch 2/30.. Train loss: 1.169.. Valid loss: 1.223.. Valid accuracy: 0.460\n",
            "Epoch 2/30.. Train loss: 1.140.. Valid loss: 1.238.. Valid accuracy: 0.519\n",
            "Epoch 2/30.. Train loss: 1.246.. Valid loss: 1.216.. Valid accuracy: 0.497\n",
            "Epoch 2/30.. Train loss: 1.194.. Valid loss: 1.234.. Valid accuracy: 0.487\n",
            "Epoch 2/30.. Train loss: 1.082.. Valid loss: 1.170.. Valid accuracy: 0.504\n",
            "Epoch 2/30.. Train loss: 1.163.. Valid loss: 1.227.. Valid accuracy: 0.484\n",
            "Epoch 2/30.. Train loss: 1.183.. Valid loss: 1.235.. Valid accuracy: 0.521\n",
            "Epoch 2/30.. Train loss: 1.113.. Valid loss: 1.181.. Valid accuracy: 0.547\n",
            "Epoch 2/30.. Train loss: 1.106.. Valid loss: 1.210.. Valid accuracy: 0.493\n",
            "Epoch 2/30.. Train loss: 1.184.. Valid loss: 1.199.. Valid accuracy: 0.493\n",
            "Epoch 2/30.. Train loss: 1.213.. Valid loss: 1.158.. Valid accuracy: 0.517\n",
            "Epoch 2/30.. Train loss: 1.239.. Valid loss: 1.212.. Valid accuracy: 0.471\n",
            "Epoch 2/30.. Train loss: 1.224.. Valid loss: 1.172.. Valid accuracy: 0.536\n",
            "Epoch 2/30.. Train loss: 1.155.. Valid loss: 1.207.. Valid accuracy: 0.497\n",
            "Epoch 3/30.. Train loss: 1.209.. Valid loss: 1.170.. Valid accuracy: 0.535\n",
            "Epoch 3/30.. Train loss: 1.106.. Valid loss: 1.175.. Valid accuracy: 0.512\n",
            "Epoch 3/30.. Train loss: 1.147.. Valid loss: 1.205.. Valid accuracy: 0.477\n",
            "Epoch 3/30.. Train loss: 1.168.. Valid loss: 1.159.. Valid accuracy: 0.531\n",
            "Epoch 3/30.. Train loss: 1.011.. Valid loss: 1.225.. Valid accuracy: 0.471\n",
            "Epoch 3/30.. Train loss: 1.111.. Valid loss: 1.181.. Valid accuracy: 0.540\n",
            "Epoch 3/30.. Train loss: 1.171.. Valid loss: 1.160.. Valid accuracy: 0.548\n",
            "Epoch 3/30.. Train loss: 1.102.. Valid loss: 1.160.. Valid accuracy: 0.559\n",
            "Epoch 3/30.. Train loss: 1.033.. Valid loss: 1.166.. Valid accuracy: 0.512\n",
            "Epoch 3/30.. Train loss: 1.157.. Valid loss: 1.188.. Valid accuracy: 0.501\n",
            "Epoch 3/30.. Train loss: 1.163.. Valid loss: 1.194.. Valid accuracy: 0.532\n",
            "Epoch 3/30.. Train loss: 1.190.. Valid loss: 1.207.. Valid accuracy: 0.510\n",
            "Epoch 3/30.. Train loss: 1.108.. Valid loss: 1.166.. Valid accuracy: 0.548\n",
            "Epoch 3/30.. Train loss: 1.139.. Valid loss: 1.167.. Valid accuracy: 0.507\n",
            "Epoch 3/30.. Train loss: 1.097.. Valid loss: 1.179.. Valid accuracy: 0.520\n",
            "Epoch 3/30.. Train loss: 1.129.. Valid loss: 1.156.. Valid accuracy: 0.546\n",
            "Epoch 4/30.. Train loss: 1.168.. Valid loss: 1.202.. Valid accuracy: 0.523\n",
            "Epoch 4/30.. Train loss: 1.135.. Valid loss: 1.185.. Valid accuracy: 0.528\n",
            "Epoch 4/30.. Train loss: 1.094.. Valid loss: 1.145.. Valid accuracy: 0.557\n",
            "Epoch 4/30.. Train loss: 1.038.. Valid loss: 1.157.. Valid accuracy: 0.520\n",
            "Epoch 4/30.. Train loss: 1.055.. Valid loss: 1.188.. Valid accuracy: 0.529\n",
            "Epoch 4/30.. Train loss: 1.239.. Valid loss: 1.209.. Valid accuracy: 0.524\n",
            "Epoch 4/30.. Train loss: 1.131.. Valid loss: 1.186.. Valid accuracy: 0.528\n",
            "Epoch 4/30.. Train loss: 1.132.. Valid loss: 1.220.. Valid accuracy: 0.519\n",
            "Epoch 4/30.. Train loss: 1.064.. Valid loss: 1.158.. Valid accuracy: 0.536\n",
            "Epoch 4/30.. Train loss: 1.095.. Valid loss: 1.159.. Valid accuracy: 0.533\n",
            "Epoch 4/30.. Train loss: 1.094.. Valid loss: 1.171.. Valid accuracy: 0.540\n",
            "Epoch 4/30.. Train loss: 1.117.. Valid loss: 1.153.. Valid accuracy: 0.535\n",
            "Epoch 4/30.. Train loss: 1.127.. Valid loss: 1.182.. Valid accuracy: 0.527\n",
            "Epoch 4/30.. Train loss: 1.191.. Valid loss: 1.202.. Valid accuracy: 0.511\n",
            "Epoch 4/30.. Train loss: 1.154.. Valid loss: 1.151.. Valid accuracy: 0.536\n",
            "Epoch 4/30.. Train loss: 1.064.. Valid loss: 1.186.. Valid accuracy: 0.527\n",
            "Epoch 4/30.. Train loss: 1.094.. Valid loss: 1.179.. Valid accuracy: 0.524\n",
            "Epoch 5/30.. Train loss: 1.062.. Valid loss: 1.178.. Valid accuracy: 0.533\n",
            "Epoch 5/30.. Train loss: 1.149.. Valid loss: 1.184.. Valid accuracy: 0.532\n",
            "Epoch 5/30.. Train loss: 0.999.. Valid loss: 1.152.. Valid accuracy: 0.531\n",
            "Epoch 5/30.. Train loss: 1.091.. Valid loss: 1.173.. Valid accuracy: 0.536\n",
            "Epoch 5/30.. Train loss: 1.095.. Valid loss: 1.156.. Valid accuracy: 0.551\n",
            "Epoch 5/30.. Train loss: 1.140.. Valid loss: 1.183.. Valid accuracy: 0.540\n",
            "Epoch 5/30.. Train loss: 1.133.. Valid loss: 1.208.. Valid accuracy: 0.547\n",
            "Epoch 5/30.. Train loss: 1.154.. Valid loss: 1.206.. Valid accuracy: 0.488\n",
            "Epoch 5/30.. Train loss: 1.127.. Valid loss: 1.181.. Valid accuracy: 0.520\n",
            "Epoch 5/30.. Train loss: 1.010.. Valid loss: 1.156.. Valid accuracy: 0.536\n",
            "Epoch 5/30.. Train loss: 1.096.. Valid loss: 1.194.. Valid accuracy: 0.508\n",
            "Epoch 5/30.. Train loss: 1.125.. Valid loss: 1.157.. Valid accuracy: 0.548\n",
            "Epoch 5/30.. Train loss: 1.108.. Valid loss: 1.203.. Valid accuracy: 0.492\n",
            "Epoch 5/30.. Train loss: 1.078.. Valid loss: 1.211.. Valid accuracy: 0.492\n",
            "Epoch 5/30.. Train loss: 1.120.. Valid loss: 1.164.. Valid accuracy: 0.496\n",
            "Epoch 5/30.. Train loss: 1.124.. Valid loss: 1.208.. Valid accuracy: 0.503\n",
            "Epoch 6/30.. Train loss: 1.085.. Valid loss: 1.178.. Valid accuracy: 0.524\n",
            "Epoch 6/30.. Train loss: 1.081.. Valid loss: 1.203.. Valid accuracy: 0.503\n",
            "Epoch 6/30.. Train loss: 1.104.. Valid loss: 1.169.. Valid accuracy: 0.533\n",
            "Epoch 6/30.. Train loss: 1.119.. Valid loss: 1.174.. Valid accuracy: 0.513\n",
            "Epoch 6/30.. Train loss: 1.039.. Valid loss: 1.211.. Valid accuracy: 0.480\n",
            "Epoch 6/30.. Train loss: 1.117.. Valid loss: 1.219.. Valid accuracy: 0.501\n",
            "Epoch 6/30.. Train loss: 1.146.. Valid loss: 1.163.. Valid accuracy: 0.549\n",
            "Epoch 6/30.. Train loss: 1.057.. Valid loss: 1.180.. Valid accuracy: 0.527\n",
            "Epoch 6/30.. Train loss: 1.159.. Valid loss: 1.159.. Valid accuracy: 0.553\n",
            "Epoch 6/30.. Train loss: 1.142.. Valid loss: 1.151.. Valid accuracy: 0.545\n",
            "Epoch 6/30.. Train loss: 1.068.. Valid loss: 1.196.. Valid accuracy: 0.532\n",
            "Epoch 6/30.. Train loss: 1.033.. Valid loss: 1.171.. Valid accuracy: 0.544\n",
            "Epoch 6/30.. Train loss: 1.023.. Valid loss: 1.155.. Valid accuracy: 0.533\n",
            "Epoch 6/30.. Train loss: 1.156.. Valid loss: 1.169.. Valid accuracy: 0.536\n",
            "Epoch 6/30.. Train loss: 1.002.. Valid loss: 1.144.. Valid accuracy: 0.533\n",
            "Epoch 6/30.. Train loss: 1.020.. Valid loss: 1.163.. Valid accuracy: 0.547\n",
            "Epoch 6/30.. Train loss: 1.045.. Valid loss: 1.226.. Valid accuracy: 0.500\n",
            "Epoch 7/30.. Train loss: 1.208.. Valid loss: 1.193.. Valid accuracy: 0.536\n",
            "Epoch 7/30.. Train loss: 1.117.. Valid loss: 1.169.. Valid accuracy: 0.517\n",
            "Epoch 7/30.. Train loss: 1.035.. Valid loss: 1.247.. Valid accuracy: 0.497\n",
            "Epoch 7/30.. Train loss: 1.109.. Valid loss: 1.164.. Valid accuracy: 0.532\n",
            "Epoch 7/30.. Train loss: 0.998.. Valid loss: 1.153.. Valid accuracy: 0.524\n",
            "Epoch 7/30.. Train loss: 1.022.. Valid loss: 1.178.. Valid accuracy: 0.519\n",
            "Epoch 7/30.. Train loss: 1.009.. Valid loss: 1.147.. Valid accuracy: 0.524\n",
            "Epoch 7/30.. Train loss: 1.026.. Valid loss: 1.138.. Valid accuracy: 0.541\n",
            "Epoch 7/30.. Train loss: 1.057.. Valid loss: 1.170.. Valid accuracy: 0.544\n",
            "Epoch 7/30.. Train loss: 1.121.. Valid loss: 1.138.. Valid accuracy: 0.549\n",
            "Epoch 7/30.. Train loss: 1.075.. Valid loss: 1.161.. Valid accuracy: 0.529\n",
            "Epoch 7/30.. Train loss: 1.031.. Valid loss: 1.146.. Valid accuracy: 0.544\n",
            "Epoch 7/30.. Train loss: 1.002.. Valid loss: 1.132.. Valid accuracy: 0.557\n",
            "Epoch 7/30.. Train loss: 1.091.. Valid loss: 1.150.. Valid accuracy: 0.547\n",
            "Epoch 7/30.. Train loss: 1.028.. Valid loss: 1.159.. Valid accuracy: 0.545\n",
            "Epoch 7/30.. Train loss: 1.067.. Valid loss: 1.160.. Valid accuracy: 0.516\n",
            "Epoch 8/30.. Train loss: 1.001.. Valid loss: 1.196.. Valid accuracy: 0.508\n",
            "Epoch 8/30.. Train loss: 1.047.. Valid loss: 1.168.. Valid accuracy: 0.556\n",
            "Epoch 8/30.. Train loss: 1.068.. Valid loss: 1.194.. Valid accuracy: 0.512\n",
            "Epoch 8/30.. Train loss: 1.231.. Valid loss: 1.200.. Valid accuracy: 0.542\n",
            "Epoch 8/30.. Train loss: 0.973.. Valid loss: 1.172.. Valid accuracy: 0.553\n",
            "Epoch 8/30.. Train loss: 1.100.. Valid loss: 1.157.. Valid accuracy: 0.532\n",
            "Epoch 8/30.. Train loss: 0.968.. Valid loss: 1.190.. Valid accuracy: 0.536\n",
            "Epoch 8/30.. Train loss: 1.132.. Valid loss: 1.182.. Valid accuracy: 0.540\n",
            "Epoch 8/30.. Train loss: 1.027.. Valid loss: 1.146.. Valid accuracy: 0.560\n",
            "Epoch 8/30.. Train loss: 1.078.. Valid loss: 1.156.. Valid accuracy: 0.541\n",
            "Epoch 8/30.. Train loss: 1.020.. Valid loss: 1.173.. Valid accuracy: 0.516\n",
            "Epoch 8/30.. Train loss: 1.098.. Valid loss: 1.211.. Valid accuracy: 0.519\n",
            "Epoch 8/30.. Train loss: 1.039.. Valid loss: 1.229.. Valid accuracy: 0.556\n",
            "Epoch 8/30.. Train loss: 1.096.. Valid loss: 1.172.. Valid accuracy: 0.550\n",
            "Epoch 8/30.. Train loss: 1.121.. Valid loss: 1.203.. Valid accuracy: 0.533\n",
            "Epoch 8/30.. Train loss: 1.120.. Valid loss: 1.203.. Valid accuracy: 0.531\n",
            "Epoch 8/30.. Train loss: 1.004.. Valid loss: 1.159.. Valid accuracy: 0.540\n",
            "Epoch 9/30.. Train loss: 1.104.. Valid loss: 1.168.. Valid accuracy: 0.530\n",
            "Epoch 9/30.. Train loss: 1.077.. Valid loss: 1.200.. Valid accuracy: 0.516\n",
            "Epoch 9/30.. Train loss: 1.087.. Valid loss: 1.204.. Valid accuracy: 0.479\n",
            "Epoch 9/30.. Train loss: 1.099.. Valid loss: 1.217.. Valid accuracy: 0.468\n",
            "Epoch 9/30.. Train loss: 0.999.. Valid loss: 1.160.. Valid accuracy: 0.532\n",
            "Epoch 9/30.. Train loss: 1.039.. Valid loss: 1.176.. Valid accuracy: 0.532\n",
            "Epoch 9/30.. Train loss: 1.115.. Valid loss: 1.161.. Valid accuracy: 0.517\n",
            "Epoch 9/30.. Train loss: 1.037.. Valid loss: 1.166.. Valid accuracy: 0.541\n",
            "Epoch 9/30.. Train loss: 0.995.. Valid loss: 1.203.. Valid accuracy: 0.491\n",
            "Epoch 9/30.. Train loss: 1.105.. Valid loss: 1.184.. Valid accuracy: 0.504\n",
            "Epoch 9/30.. Train loss: 1.037.. Valid loss: 1.161.. Valid accuracy: 0.536\n",
            "Epoch 9/30.. Train loss: 1.036.. Valid loss: 1.176.. Valid accuracy: 0.527\n",
            "Epoch 9/30.. Train loss: 1.008.. Valid loss: 1.147.. Valid accuracy: 0.555\n",
            "Epoch 9/30.. Train loss: 1.004.. Valid loss: 1.148.. Valid accuracy: 0.524\n",
            "Epoch 9/30.. Train loss: 1.018.. Valid loss: 1.186.. Valid accuracy: 0.503\n",
            "Epoch 9/30.. Train loss: 0.987.. Valid loss: 1.201.. Valid accuracy: 0.487\n",
            "Epoch 10/30.. Train loss: 1.116.. Valid loss: 1.219.. Valid accuracy: 0.504\n",
            "Epoch 10/30.. Train loss: 1.054.. Valid loss: 1.147.. Valid accuracy: 0.536\n",
            "Epoch 10/30.. Train loss: 1.073.. Valid loss: 1.195.. Valid accuracy: 0.512\n",
            "Epoch 10/30.. Train loss: 1.037.. Valid loss: 1.189.. Valid accuracy: 0.524\n",
            "Epoch 10/30.. Train loss: 1.011.. Valid loss: 1.172.. Valid accuracy: 0.515\n",
            "Epoch 10/30.. Train loss: 1.144.. Valid loss: 1.164.. Valid accuracy: 0.556\n",
            "Epoch 10/30.. Train loss: 1.080.. Valid loss: 1.165.. Valid accuracy: 0.533\n",
            "Epoch 10/30.. Train loss: 1.049.. Valid loss: 1.146.. Valid accuracy: 0.565\n",
            "Epoch 10/30.. Train loss: 1.000.. Valid loss: 1.143.. Valid accuracy: 0.549\n",
            "Epoch 10/30.. Train loss: 0.991.. Valid loss: 1.150.. Valid accuracy: 0.535\n",
            "Epoch 10/30.. Train loss: 0.960.. Valid loss: 1.163.. Valid accuracy: 0.532\n",
            "Epoch 10/30.. Train loss: 1.063.. Valid loss: 1.185.. Valid accuracy: 0.533\n",
            "Epoch 10/30.. Train loss: 1.031.. Valid loss: 1.203.. Valid accuracy: 0.511\n",
            "Epoch 10/30.. Train loss: 1.011.. Valid loss: 1.181.. Valid accuracy: 0.515\n",
            "Epoch 10/30.. Train loss: 0.955.. Valid loss: 1.147.. Valid accuracy: 0.540\n",
            "Epoch 10/30.. Train loss: 1.110.. Valid loss: 1.140.. Valid accuracy: 0.564\n",
            "Epoch 10/30.. Train loss: 1.065.. Valid loss: 1.166.. Valid accuracy: 0.501\n",
            "Epoch 11/30.. Train loss: 1.064.. Valid loss: 1.166.. Valid accuracy: 0.561\n",
            "Epoch 11/30.. Train loss: 0.993.. Valid loss: 1.180.. Valid accuracy: 0.540\n",
            "Epoch 11/30.. Train loss: 1.109.. Valid loss: 1.188.. Valid accuracy: 0.533\n",
            "Epoch 11/30.. Train loss: 1.041.. Valid loss: 1.145.. Valid accuracy: 0.562\n",
            "Epoch 11/30.. Train loss: 1.176.. Valid loss: 1.219.. Valid accuracy: 0.496\n",
            "Epoch 11/30.. Train loss: 1.070.. Valid loss: 1.157.. Valid accuracy: 0.541\n",
            "Epoch 11/30.. Train loss: 1.163.. Valid loss: 1.244.. Valid accuracy: 0.520\n",
            "Epoch 11/30.. Train loss: 1.071.. Valid loss: 1.233.. Valid accuracy: 0.512\n",
            "Epoch 11/30.. Train loss: 1.067.. Valid loss: 1.180.. Valid accuracy: 0.512\n",
            "Epoch 11/30.. Train loss: 1.014.. Valid loss: 1.210.. Valid accuracy: 0.519\n",
            "Epoch 11/30.. Train loss: 1.112.. Valid loss: 1.168.. Valid accuracy: 0.536\n",
            "Epoch 11/30.. Train loss: 1.059.. Valid loss: 1.222.. Valid accuracy: 0.500\n",
            "Epoch 11/30.. Train loss: 1.039.. Valid loss: 1.215.. Valid accuracy: 0.533\n",
            "Epoch 11/30.. Train loss: 1.000.. Valid loss: 1.217.. Valid accuracy: 0.504\n",
            "Epoch 11/30.. Train loss: 1.122.. Valid loss: 1.219.. Valid accuracy: 0.528\n",
            "Epoch 11/30.. Train loss: 1.044.. Valid loss: 1.178.. Valid accuracy: 0.545\n",
            "Epoch 12/30.. Train loss: 0.910.. Valid loss: 1.144.. Valid accuracy: 0.551\n",
            "Epoch 12/30.. Train loss: 1.097.. Valid loss: 1.176.. Valid accuracy: 0.532\n",
            "Epoch 12/30.. Train loss: 1.016.. Valid loss: 1.156.. Valid accuracy: 0.549\n",
            "Epoch 12/30.. Train loss: 0.966.. Valid loss: 1.154.. Valid accuracy: 0.548\n"
          ],
          "name": "stdout"
        },
        {
          "output_type": "error",
          "ename": "KeyboardInterrupt",
          "evalue": "ignored",
          "traceback": [
            "\u001b[0;31m---------------------------------------------------------------------------\u001b[0m",
            "\u001b[0;31mKeyboardInterrupt\u001b[0m                         Traceback (most recent call last)",
            "\u001b[0;32m<ipython-input-26-b3722874b098>\u001b[0m in \u001b[0;36m<module>\u001b[0;34m()\u001b[0m\n\u001b[1;32m     21\u001b[0m             \u001b[0mmodel\u001b[0m\u001b[0;34m.\u001b[0m\u001b[0meval\u001b[0m\u001b[0;34m(\u001b[0m\u001b[0;34m)\u001b[0m\u001b[0;34m\u001b[0m\u001b[0;34m\u001b[0m\u001b[0m\n\u001b[1;32m     22\u001b[0m             \u001b[0;32mwith\u001b[0m \u001b[0mtorch\u001b[0m\u001b[0;34m.\u001b[0m\u001b[0mno_grad\u001b[0m\u001b[0;34m(\u001b[0m\u001b[0;34m)\u001b[0m\u001b[0;34m:\u001b[0m\u001b[0;34m\u001b[0m\u001b[0;34m\u001b[0m\u001b[0m\n\u001b[0;32m---> 23\u001b[0;31m                 \u001b[0;32mfor\u001b[0m \u001b[0minputs\u001b[0m\u001b[0;34m,\u001b[0m \u001b[0mlabels\u001b[0m \u001b[0;32min\u001b[0m \u001b[0mvalidloader\u001b[0m\u001b[0;34m:\u001b[0m\u001b[0;34m\u001b[0m\u001b[0;34m\u001b[0m\u001b[0m\n\u001b[0m\u001b[1;32m     24\u001b[0m                     \u001b[0minputs\u001b[0m\u001b[0;34m,\u001b[0m \u001b[0mlabels\u001b[0m \u001b[0;34m=\u001b[0m \u001b[0minputs\u001b[0m\u001b[0;34m.\u001b[0m\u001b[0mto\u001b[0m\u001b[0;34m(\u001b[0m\u001b[0mdevice\u001b[0m\u001b[0;34m)\u001b[0m\u001b[0;34m,\u001b[0m \u001b[0mlabels\u001b[0m\u001b[0;34m.\u001b[0m\u001b[0mto\u001b[0m\u001b[0;34m(\u001b[0m\u001b[0mdevice\u001b[0m\u001b[0;34m)\u001b[0m\u001b[0;34m\u001b[0m\u001b[0;34m\u001b[0m\u001b[0m\n\u001b[1;32m     25\u001b[0m                     \u001b[0mlogps\u001b[0m \u001b[0;34m=\u001b[0m \u001b[0mmodel\u001b[0m\u001b[0;34m.\u001b[0m\u001b[0mforward\u001b[0m\u001b[0;34m(\u001b[0m\u001b[0minputs\u001b[0m\u001b[0;34m)\u001b[0m\u001b[0;34m\u001b[0m\u001b[0;34m\u001b[0m\u001b[0m\n",
            "\u001b[0;32m/usr/local/lib/python3.6/dist-packages/torch/utils/data/dataloader.py\u001b[0m in \u001b[0;36m__next__\u001b[0;34m(self)\u001b[0m\n\u001b[1;32m    361\u001b[0m \u001b[0;34m\u001b[0m\u001b[0m\n\u001b[1;32m    362\u001b[0m     \u001b[0;32mdef\u001b[0m \u001b[0m__next__\u001b[0m\u001b[0;34m(\u001b[0m\u001b[0mself\u001b[0m\u001b[0;34m)\u001b[0m\u001b[0;34m:\u001b[0m\u001b[0;34m\u001b[0m\u001b[0;34m\u001b[0m\u001b[0m\n\u001b[0;32m--> 363\u001b[0;31m         \u001b[0mdata\u001b[0m \u001b[0;34m=\u001b[0m \u001b[0mself\u001b[0m\u001b[0;34m.\u001b[0m\u001b[0m_next_data\u001b[0m\u001b[0;34m(\u001b[0m\u001b[0;34m)\u001b[0m\u001b[0;34m\u001b[0m\u001b[0;34m\u001b[0m\u001b[0m\n\u001b[0m\u001b[1;32m    364\u001b[0m         \u001b[0mself\u001b[0m\u001b[0;34m.\u001b[0m\u001b[0m_num_yielded\u001b[0m \u001b[0;34m+=\u001b[0m \u001b[0;36m1\u001b[0m\u001b[0;34m\u001b[0m\u001b[0;34m\u001b[0m\u001b[0m\n\u001b[1;32m    365\u001b[0m         \u001b[0;32mif\u001b[0m \u001b[0mself\u001b[0m\u001b[0;34m.\u001b[0m\u001b[0m_dataset_kind\u001b[0m \u001b[0;34m==\u001b[0m \u001b[0m_DatasetKind\u001b[0m\u001b[0;34m.\u001b[0m\u001b[0mIterable\u001b[0m \u001b[0;32mand\u001b[0m\u001b[0;31m \u001b[0m\u001b[0;31m\\\u001b[0m\u001b[0;34m\u001b[0m\u001b[0;34m\u001b[0m\u001b[0m\n",
            "\u001b[0;32m/usr/local/lib/python3.6/dist-packages/torch/utils/data/dataloader.py\u001b[0m in \u001b[0;36m_next_data\u001b[0;34m(self)\u001b[0m\n\u001b[1;32m    972\u001b[0m \u001b[0;34m\u001b[0m\u001b[0m\n\u001b[1;32m    973\u001b[0m             \u001b[0;32massert\u001b[0m \u001b[0;32mnot\u001b[0m \u001b[0mself\u001b[0m\u001b[0;34m.\u001b[0m\u001b[0m_shutdown\u001b[0m \u001b[0;32mand\u001b[0m \u001b[0mself\u001b[0m\u001b[0;34m.\u001b[0m\u001b[0m_tasks_outstanding\u001b[0m \u001b[0;34m>\u001b[0m \u001b[0;36m0\u001b[0m\u001b[0;34m\u001b[0m\u001b[0;34m\u001b[0m\u001b[0m\n\u001b[0;32m--> 974\u001b[0;31m             \u001b[0midx\u001b[0m\u001b[0;34m,\u001b[0m \u001b[0mdata\u001b[0m \u001b[0;34m=\u001b[0m \u001b[0mself\u001b[0m\u001b[0;34m.\u001b[0m\u001b[0m_get_data\u001b[0m\u001b[0;34m(\u001b[0m\u001b[0;34m)\u001b[0m\u001b[0;34m\u001b[0m\u001b[0;34m\u001b[0m\u001b[0m\n\u001b[0m\u001b[1;32m    975\u001b[0m             \u001b[0mself\u001b[0m\u001b[0;34m.\u001b[0m\u001b[0m_tasks_outstanding\u001b[0m \u001b[0;34m-=\u001b[0m \u001b[0;36m1\u001b[0m\u001b[0;34m\u001b[0m\u001b[0;34m\u001b[0m\u001b[0m\n\u001b[1;32m    976\u001b[0m \u001b[0;34m\u001b[0m\u001b[0m\n",
            "\u001b[0;32m/usr/local/lib/python3.6/dist-packages/torch/utils/data/dataloader.py\u001b[0m in \u001b[0;36m_get_data\u001b[0;34m(self)\u001b[0m\n\u001b[1;32m    939\u001b[0m         \u001b[0;32melse\u001b[0m\u001b[0;34m:\u001b[0m\u001b[0;34m\u001b[0m\u001b[0;34m\u001b[0m\u001b[0m\n\u001b[1;32m    940\u001b[0m             \u001b[0;32mwhile\u001b[0m \u001b[0;32mTrue\u001b[0m\u001b[0;34m:\u001b[0m\u001b[0;34m\u001b[0m\u001b[0;34m\u001b[0m\u001b[0m\n\u001b[0;32m--> 941\u001b[0;31m                 \u001b[0msuccess\u001b[0m\u001b[0;34m,\u001b[0m \u001b[0mdata\u001b[0m \u001b[0;34m=\u001b[0m \u001b[0mself\u001b[0m\u001b[0;34m.\u001b[0m\u001b[0m_try_get_data\u001b[0m\u001b[0;34m(\u001b[0m\u001b[0;34m)\u001b[0m\u001b[0;34m\u001b[0m\u001b[0;34m\u001b[0m\u001b[0m\n\u001b[0m\u001b[1;32m    942\u001b[0m                 \u001b[0;32mif\u001b[0m \u001b[0msuccess\u001b[0m\u001b[0;34m:\u001b[0m\u001b[0;34m\u001b[0m\u001b[0;34m\u001b[0m\u001b[0m\n\u001b[1;32m    943\u001b[0m                     \u001b[0;32mreturn\u001b[0m \u001b[0mdata\u001b[0m\u001b[0;34m\u001b[0m\u001b[0;34m\u001b[0m\u001b[0m\n",
            "\u001b[0;32m/usr/local/lib/python3.6/dist-packages/torch/utils/data/dataloader.py\u001b[0m in \u001b[0;36m_try_get_data\u001b[0;34m(self, timeout)\u001b[0m\n\u001b[1;32m    777\u001b[0m         \u001b[0;31m#   (bool: whether successfully get data, any: data if successful else None)\u001b[0m\u001b[0;34m\u001b[0m\u001b[0;34m\u001b[0m\u001b[0;34m\u001b[0m\u001b[0m\n\u001b[1;32m    778\u001b[0m         \u001b[0;32mtry\u001b[0m\u001b[0;34m:\u001b[0m\u001b[0;34m\u001b[0m\u001b[0;34m\u001b[0m\u001b[0m\n\u001b[0;32m--> 779\u001b[0;31m             \u001b[0mdata\u001b[0m \u001b[0;34m=\u001b[0m \u001b[0mself\u001b[0m\u001b[0;34m.\u001b[0m\u001b[0m_data_queue\u001b[0m\u001b[0;34m.\u001b[0m\u001b[0mget\u001b[0m\u001b[0;34m(\u001b[0m\u001b[0mtimeout\u001b[0m\u001b[0;34m=\u001b[0m\u001b[0mtimeout\u001b[0m\u001b[0;34m)\u001b[0m\u001b[0;34m\u001b[0m\u001b[0;34m\u001b[0m\u001b[0m\n\u001b[0m\u001b[1;32m    780\u001b[0m             \u001b[0;32mreturn\u001b[0m \u001b[0;34m(\u001b[0m\u001b[0;32mTrue\u001b[0m\u001b[0;34m,\u001b[0m \u001b[0mdata\u001b[0m\u001b[0;34m)\u001b[0m\u001b[0;34m\u001b[0m\u001b[0;34m\u001b[0m\u001b[0m\n\u001b[1;32m    781\u001b[0m         \u001b[0;32mexcept\u001b[0m \u001b[0mException\u001b[0m \u001b[0;32mas\u001b[0m \u001b[0me\u001b[0m\u001b[0;34m:\u001b[0m\u001b[0;34m\u001b[0m\u001b[0;34m\u001b[0m\u001b[0m\n",
            "\u001b[0;32m/usr/lib/python3.6/multiprocessing/queues.py\u001b[0m in \u001b[0;36mget\u001b[0;34m(self, block, timeout)\u001b[0m\n\u001b[1;32m    102\u001b[0m                 \u001b[0;32mif\u001b[0m \u001b[0mblock\u001b[0m\u001b[0;34m:\u001b[0m\u001b[0;34m\u001b[0m\u001b[0;34m\u001b[0m\u001b[0m\n\u001b[1;32m    103\u001b[0m                     \u001b[0mtimeout\u001b[0m \u001b[0;34m=\u001b[0m \u001b[0mdeadline\u001b[0m \u001b[0;34m-\u001b[0m \u001b[0mtime\u001b[0m\u001b[0;34m.\u001b[0m\u001b[0mmonotonic\u001b[0m\u001b[0;34m(\u001b[0m\u001b[0;34m)\u001b[0m\u001b[0;34m\u001b[0m\u001b[0;34m\u001b[0m\u001b[0m\n\u001b[0;32m--> 104\u001b[0;31m                     \u001b[0;32mif\u001b[0m \u001b[0;32mnot\u001b[0m \u001b[0mself\u001b[0m\u001b[0;34m.\u001b[0m\u001b[0m_poll\u001b[0m\u001b[0;34m(\u001b[0m\u001b[0mtimeout\u001b[0m\u001b[0;34m)\u001b[0m\u001b[0;34m:\u001b[0m\u001b[0;34m\u001b[0m\u001b[0;34m\u001b[0m\u001b[0m\n\u001b[0m\u001b[1;32m    105\u001b[0m                         \u001b[0;32mraise\u001b[0m \u001b[0mEmpty\u001b[0m\u001b[0;34m\u001b[0m\u001b[0;34m\u001b[0m\u001b[0m\n\u001b[1;32m    106\u001b[0m                 \u001b[0;32melif\u001b[0m \u001b[0;32mnot\u001b[0m \u001b[0mself\u001b[0m\u001b[0;34m.\u001b[0m\u001b[0m_poll\u001b[0m\u001b[0;34m(\u001b[0m\u001b[0;34m)\u001b[0m\u001b[0;34m:\u001b[0m\u001b[0;34m\u001b[0m\u001b[0;34m\u001b[0m\u001b[0m\n",
            "\u001b[0;32m/usr/lib/python3.6/multiprocessing/connection.py\u001b[0m in \u001b[0;36mpoll\u001b[0;34m(self, timeout)\u001b[0m\n\u001b[1;32m    255\u001b[0m         \u001b[0mself\u001b[0m\u001b[0;34m.\u001b[0m\u001b[0m_check_closed\u001b[0m\u001b[0;34m(\u001b[0m\u001b[0;34m)\u001b[0m\u001b[0;34m\u001b[0m\u001b[0;34m\u001b[0m\u001b[0m\n\u001b[1;32m    256\u001b[0m         \u001b[0mself\u001b[0m\u001b[0;34m.\u001b[0m\u001b[0m_check_readable\u001b[0m\u001b[0;34m(\u001b[0m\u001b[0;34m)\u001b[0m\u001b[0;34m\u001b[0m\u001b[0;34m\u001b[0m\u001b[0m\n\u001b[0;32m--> 257\u001b[0;31m         \u001b[0;32mreturn\u001b[0m \u001b[0mself\u001b[0m\u001b[0;34m.\u001b[0m\u001b[0m_poll\u001b[0m\u001b[0;34m(\u001b[0m\u001b[0mtimeout\u001b[0m\u001b[0;34m)\u001b[0m\u001b[0;34m\u001b[0m\u001b[0;34m\u001b[0m\u001b[0m\n\u001b[0m\u001b[1;32m    258\u001b[0m \u001b[0;34m\u001b[0m\u001b[0m\n\u001b[1;32m    259\u001b[0m     \u001b[0;32mdef\u001b[0m \u001b[0m__enter__\u001b[0m\u001b[0;34m(\u001b[0m\u001b[0mself\u001b[0m\u001b[0;34m)\u001b[0m\u001b[0;34m:\u001b[0m\u001b[0;34m\u001b[0m\u001b[0;34m\u001b[0m\u001b[0m\n",
            "\u001b[0;32m/usr/lib/python3.6/multiprocessing/connection.py\u001b[0m in \u001b[0;36m_poll\u001b[0;34m(self, timeout)\u001b[0m\n\u001b[1;32m    412\u001b[0m \u001b[0;34m\u001b[0m\u001b[0m\n\u001b[1;32m    413\u001b[0m     \u001b[0;32mdef\u001b[0m \u001b[0m_poll\u001b[0m\u001b[0;34m(\u001b[0m\u001b[0mself\u001b[0m\u001b[0;34m,\u001b[0m \u001b[0mtimeout\u001b[0m\u001b[0;34m)\u001b[0m\u001b[0;34m:\u001b[0m\u001b[0;34m\u001b[0m\u001b[0;34m\u001b[0m\u001b[0m\n\u001b[0;32m--> 414\u001b[0;31m         \u001b[0mr\u001b[0m \u001b[0;34m=\u001b[0m \u001b[0mwait\u001b[0m\u001b[0;34m(\u001b[0m\u001b[0;34m[\u001b[0m\u001b[0mself\u001b[0m\u001b[0;34m]\u001b[0m\u001b[0;34m,\u001b[0m \u001b[0mtimeout\u001b[0m\u001b[0;34m)\u001b[0m\u001b[0;34m\u001b[0m\u001b[0;34m\u001b[0m\u001b[0m\n\u001b[0m\u001b[1;32m    415\u001b[0m         \u001b[0;32mreturn\u001b[0m \u001b[0mbool\u001b[0m\u001b[0;34m(\u001b[0m\u001b[0mr\u001b[0m\u001b[0;34m)\u001b[0m\u001b[0;34m\u001b[0m\u001b[0;34m\u001b[0m\u001b[0m\n\u001b[1;32m    416\u001b[0m \u001b[0;34m\u001b[0m\u001b[0m\n",
            "\u001b[0;32m/usr/lib/python3.6/multiprocessing/connection.py\u001b[0m in \u001b[0;36mwait\u001b[0;34m(object_list, timeout)\u001b[0m\n\u001b[1;32m    909\u001b[0m \u001b[0;34m\u001b[0m\u001b[0m\n\u001b[1;32m    910\u001b[0m             \u001b[0;32mwhile\u001b[0m \u001b[0;32mTrue\u001b[0m\u001b[0;34m:\u001b[0m\u001b[0;34m\u001b[0m\u001b[0;34m\u001b[0m\u001b[0m\n\u001b[0;32m--> 911\u001b[0;31m                 \u001b[0mready\u001b[0m \u001b[0;34m=\u001b[0m \u001b[0mselector\u001b[0m\u001b[0;34m.\u001b[0m\u001b[0mselect\u001b[0m\u001b[0;34m(\u001b[0m\u001b[0mtimeout\u001b[0m\u001b[0;34m)\u001b[0m\u001b[0;34m\u001b[0m\u001b[0;34m\u001b[0m\u001b[0m\n\u001b[0m\u001b[1;32m    912\u001b[0m                 \u001b[0;32mif\u001b[0m \u001b[0mready\u001b[0m\u001b[0;34m:\u001b[0m\u001b[0;34m\u001b[0m\u001b[0;34m\u001b[0m\u001b[0m\n\u001b[1;32m    913\u001b[0m                     \u001b[0;32mreturn\u001b[0m \u001b[0;34m[\u001b[0m\u001b[0mkey\u001b[0m\u001b[0;34m.\u001b[0m\u001b[0mfileobj\u001b[0m \u001b[0;32mfor\u001b[0m \u001b[0;34m(\u001b[0m\u001b[0mkey\u001b[0m\u001b[0;34m,\u001b[0m \u001b[0mevents\u001b[0m\u001b[0;34m)\u001b[0m \u001b[0;32min\u001b[0m \u001b[0mready\u001b[0m\u001b[0;34m]\u001b[0m\u001b[0;34m\u001b[0m\u001b[0;34m\u001b[0m\u001b[0m\n",
            "\u001b[0;32m/usr/lib/python3.6/selectors.py\u001b[0m in \u001b[0;36mselect\u001b[0;34m(self, timeout)\u001b[0m\n\u001b[1;32m    374\u001b[0m             \u001b[0mready\u001b[0m \u001b[0;34m=\u001b[0m \u001b[0;34m[\u001b[0m\u001b[0;34m]\u001b[0m\u001b[0;34m\u001b[0m\u001b[0;34m\u001b[0m\u001b[0m\n\u001b[1;32m    375\u001b[0m             \u001b[0;32mtry\u001b[0m\u001b[0;34m:\u001b[0m\u001b[0;34m\u001b[0m\u001b[0;34m\u001b[0m\u001b[0m\n\u001b[0;32m--> 376\u001b[0;31m                 \u001b[0mfd_event_list\u001b[0m \u001b[0;34m=\u001b[0m \u001b[0mself\u001b[0m\u001b[0;34m.\u001b[0m\u001b[0m_poll\u001b[0m\u001b[0;34m.\u001b[0m\u001b[0mpoll\u001b[0m\u001b[0;34m(\u001b[0m\u001b[0mtimeout\u001b[0m\u001b[0;34m)\u001b[0m\u001b[0;34m\u001b[0m\u001b[0;34m\u001b[0m\u001b[0m\n\u001b[0m\u001b[1;32m    377\u001b[0m             \u001b[0;32mexcept\u001b[0m \u001b[0mInterruptedError\u001b[0m\u001b[0;34m:\u001b[0m\u001b[0;34m\u001b[0m\u001b[0;34m\u001b[0m\u001b[0m\n\u001b[1;32m    378\u001b[0m                 \u001b[0;32mreturn\u001b[0m \u001b[0mready\u001b[0m\u001b[0;34m\u001b[0m\u001b[0;34m\u001b[0m\u001b[0m\n",
            "\u001b[0;31mKeyboardInterrupt\u001b[0m: "
          ]
        }
      ]
    },
    {
      "cell_type": "markdown",
      "metadata": {
        "id": "USx8kkGR9WDs",
        "colab_type": "text"
      },
      "source": [
        "Saving The Model"
      ]
    },
    {
      "cell_type": "code",
      "metadata": {
        "id": "vGwqTyov9Vqj",
        "colab_type": "code",
        "colab": {
          "base_uri": "https://localhost:8080/",
          "height": 35
        },
        "outputId": "8021365e-5172-4c3b-dfc0-92f00de4e3ea"
      },
      "source": [
        "model_save_path = '/'.join(train_path.split('/')[:-2])+'/'+'model_2.pth'\n",
        "print(model_save_path)\n",
        "torch.save(model, model_save_path)"
      ],
      "execution_count": null,
      "outputs": [
        {
          "output_type": "stream",
          "text": [
            "gdrive/My Drive/training_data/image_data/model_2.pth\n"
          ],
          "name": "stdout"
        }
      ]
    },
    {
      "cell_type": "markdown",
      "metadata": {
        "id": "d6Pg6hir7QcP",
        "colab_type": "text"
      },
      "source": [
        "# **Model config**\n",
        "This will go to setting file. where for each type of attribute we will have one model and we will have a key value pair for each model"
      ]
    },
    {
      "cell_type": "code",
      "metadata": {
        "id": "hzKqZFkYVOJi",
        "colab_type": "code",
        "colab": {}
      },
      "source": [
        "MODEL_CONFIG = {\n",
        "  \"SLEEVE_STYLE\" : {\n",
        "      \"arch\": \"resnet34\",\n",
        "      \"model_file\": \"gdrive/My Drive/training_data/image_data/model_2.pth\",\n",
        "      \"transformation\": transforms.Compose([transforms.Resize(255), \n",
        "                  transforms.CenterCrop(255),  \n",
        "                  transforms.RandomHorizontalFlip(),\n",
        "                  transforms.ToTensor()]),\n",
        "      \"tags\": ['cap-sleeves', 'cold-shoulder-sleeves', 'flared-sleeves', 'no-sleeves', 'regular-sleeves'],\n",
        "  }   \n",
        "}"
      ],
      "execution_count": null,
      "outputs": []
    },
    {
      "cell_type": "code",
      "metadata": {
        "id": "Dteb9niwVN_N",
        "colab_type": "code",
        "colab": {}
      },
      "source": [
        ""
      ],
      "execution_count": null,
      "outputs": []
    },
    {
      "cell_type": "code",
      "metadata": {
        "id": "9X15slSXVNp8",
        "colab_type": "code",
        "colab": {}
      },
      "source": [
        "# pred_model = torch.load(model_save_path)\n",
        "# pred_model.eval()\n",
        "# img = torch.tensor(cv2.imread('gdrive/My Drive/training_data/image_data/test/cap-sleeves/027bc07290956b873a00f9cb7ca49f01.jpg'))\n",
        "# # pred_model()"
      ],
      "execution_count": null,
      "outputs": []
    },
    {
      "cell_type": "markdown",
      "metadata": {
        "id": "Q80xyVnP7lbm",
        "colab_type": "text"
      },
      "source": [
        "# PREDICTION"
      ]
    },
    {
      "cell_type": "markdown",
      "metadata": {
        "id": "OilyXOGQ1o9q",
        "colab_type": "text"
      },
      "source": [
        "Predictor Class"
      ]
    },
    {
      "cell_type": "code",
      "metadata": {
        "id": "4xu5D7IVVNZ6",
        "colab_type": "code",
        "colab": {}
      },
      "source": [
        "class ModistaTagPredictor:\n",
        "    def __init__(self, model_configs):\n",
        "        self.transform = model_configs['transformation']\n",
        "        self.tags = model_configs['tags']\n",
        "        self.pred_model = torch.load(model_configs['model_file'])\n",
        "        self.pred_model.eval()\n",
        "        self.bs = 64\n",
        "        \n",
        "\n",
        "\n",
        "    def image_loader(self, image_name):\n",
        "        image = Image.open(image_name)\n",
        "        image = self.transform(image).float()\n",
        "        image = Variable(image, requires_grad=True)\n",
        "        image = image.unsqueeze(0)\n",
        "        return image.cuda()\n",
        "\n",
        "\n",
        "    def predict_tags(self, img):\n",
        "        image = self.image_loader(img)\n",
        "        out = self.pred_model(image)\n",
        "        _, predicted = torch.max(out, 1)\n",
        "        # out = out.detach().cpu().numpy()\n",
        "        out = torch.nn.functional.softmax(out, 1)\n",
        "        probs = [float(i) for i in list(out[0])]\n",
        "        print(sum(probs))\n",
        "        result = dict(zip(self.tags, probs))\n",
        "        return result\n",
        "\n",
        "    def predict_tags_batch(self, img_folder):\n",
        "        \"\"\"Not fully functional- Do not Use\"\"\"\n",
        "        img_dataset = torchvision.datasets.ImageFolder(\n",
        "        root=img_folder,\n",
        "        transform=self.transform\n",
        "    )\n",
        "        imgloader = torch.utils.data.DataLoader(img_dataset, batch_size=self.bs,\n",
        "                                          shuffle=True, num_workers=1)\n",
        "        outputs = list()\n",
        "        since = time.time()\n",
        "        for inputs, labels in imgloader:\n",
        "            inputs = inputs.to(device)\n",
        "            output = model(inputs)\n",
        "            output = output.to(device)\n",
        "            index = output.data.numpy().argmax()\n",
        "            print(index)"
      ],
      "execution_count": null,
      "outputs": []
    },
    {
      "cell_type": "markdown",
      "metadata": {
        "id": "3bZ11BZU1tcQ",
        "colab_type": "text"
      },
      "source": [
        "Non Batch Prediction"
      ]
    },
    {
      "cell_type": "code",
      "metadata": {
        "id": "JrtaHa8T1ZgI",
        "colab_type": "code",
        "colab": {
          "base_uri": "https://localhost:8080/",
          "height": 379
        },
        "outputId": "6512b588-219d-4ba6-d405-6c5a8102faf1"
      },
      "source": [
        "image_path = 'gdrive/My Drive/training_data/image_data/test/cap-sleeves/027bc07290956b873a00f9cb7ca49f01.jpg'\n",
        "plt.imshow(cv2.imread(image_path))\n",
        "f = ModistaTagPredictor(MODEL_CONFIG['SLEEVE_STYLE'])\n",
        "f.predict_tags(image_path)"
      ],
      "execution_count": null,
      "outputs": [
        {
          "output_type": "stream",
          "text": [
            "1.0000000344589353\n"
          ],
          "name": "stdout"
        },
        {
          "output_type": "execute_result",
          "data": {
            "text/plain": [
              "{'cap-sleeves': 0.5681125521659851,\n",
              " 'cold-shoulder-sleeves': 0.10499761998653412,\n",
              " 'flared-sleeves': 0.009720523841679096,\n",
              " 'no-sleeves': 0.14360922574996948,\n",
              " 'regular-sleeves': 0.17356011271476746}"
            ]
          },
          "metadata": {
            "tags": []
          },
          "execution_count": 16
        },
        {
          "output_type": "display_data",
          "data": {
            "image/png": "[encoded data removed]",
            "text/plain": [
              "<Figure size 432x288 with 1 Axes>"
            ]
          },
          "metadata": {
            "tags": [],
            "needs_background": "light"
          }
        }
      ]
    },
    {
      "cell_type": "markdown",
      "metadata": {
        "id": "gsW1taPZ1xpp",
        "colab_type": "text"
      },
      "source": [
        "Batch Prediction"
      ]
    },
    {
      "cell_type": "code",
      "metadata": {
        "id": "LwO9ZGRP10Im",
        "colab_type": "code",
        "colab": {}
      },
      "source": [
        ""
      ],
      "execution_count": null,
      "outputs": []
    },
    {
      "cell_type": "code",
      "metadata": {
        "id": "rWxuAD7y10DQ",
        "colab_type": "code",
        "colab": {}
      },
      "source": [
        ""
      ],
      "execution_count": null,
      "outputs": []
    },
    {
      "cell_type": "code",
      "metadata": {
        "id": "kWcvMAe31z9b",
        "colab_type": "code",
        "colab": {}
      },
      "source": [
        ""
      ],
      "execution_count": null,
      "outputs": []
    },
    {
      "cell_type": "code",
      "metadata": {
        "id": "uEJMMuAz7KYZ",
        "colab_type": "code",
        "colab": {}
      },
      "source": [
        ""
      ],
      "execution_count": null,
      "outputs": []
    }
  ]
}